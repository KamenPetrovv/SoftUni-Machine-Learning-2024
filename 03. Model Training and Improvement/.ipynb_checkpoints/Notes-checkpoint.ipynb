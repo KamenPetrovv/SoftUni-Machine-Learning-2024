{
 "cells": [
  {
   "cell_type": "markdown",
   "id": "6143fd4d-afd7-4a35-9c05-e80609d6139f",
   "metadata": {},
   "source": [
    "# 03. Model Training and Improvement\r\n",
    "\r\n"
   ]
  },
  {
   "cell_type": "code",
   "execution_count": null,
   "id": "b226bbb5-d9c4-4275-9c8c-8a452d4c3660",
   "metadata": {},
   "outputs": [],
   "source": []
  }
 ],
 "metadata": {
  "kernelspec": {
   "display_name": "Python 3 (ipykernel)",
   "language": "python",
   "name": "python3"
  },
  "language_info": {
   "codemirror_mode": {
    "name": "ipython",
    "version": 3
   },
   "file_extension": ".py",
   "mimetype": "text/x-python",
   "name": "python",
   "nbconvert_exporter": "python",
   "pygments_lexer": "ipython3",
   "version": "3.12.4"
  }
 },
 "nbformat": 4,
 "nbformat_minor": 5
}
