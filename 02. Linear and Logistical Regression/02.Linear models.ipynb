{
 "cells": [
  {
   "cell_type": "markdown",
   "id": "39226b20-8d31-4858-bb23-2e108429d274",
   "metadata": {},
   "source": [
    "# Linear and Logistic Regression"
   ]
  },
  {
   "cell_type": "markdown",
   "id": "bc7d5dd9-64e8-4eb0-ae11-e03a7ad16a5d",
   "metadata": {},
   "source": [
    "Data science course feedback:\n",
    "- People thought they were doing Data Science but they were doing Data Analytics\n",
    "  - Think more of the process that generated the data not the data itself\n",
    "  - Try to model the data( not ml, but the idea for modeling the data) (interpolation, simulation, advice based on the data(actionable insights))\n",
    "  - Analytics is just a part of DS\n",
    "  - DS makes inferences for the future, DA does descriptive statistics for the data(past)\n",
    "  - DS tried to understand what is the process that generated the data\n",
    "- Ask deeper questions more frequently\n",
    "- A lot of project didnt dig deep enought\n",
    "  - In most cases the most obvious solution isnt the best\n",
    "  - What factors are affecting the feature/value, what can affect these factors\n",
    "- Dont make bold assumptions\n",
    "  - Hidden assumptions are the nst dangerous thing in what we do\n",
    "- **Read more previous research** before working on the dataset\n",
    "- People remove too many \"outliers\". Some places 30/40%"
   ]
  },
  {
   "cell_type": "markdown",
   "id": "355f079d-af9c-4cad-9d1d-3c3835a2eee8",
   "metadata": {},
   "source": [
    "## Pros\n",
    "\n",
    "- Simple\n",
    "- Fast to excute \n",
    "- Small amount of effort for a decent result\n",
    "- Give us a fast and simple base score for how any model could fit the data"
   ]
  },
  {
   "cell_type": "markdown",
   "id": "bfb36ba3-6bda-4b08-a9a2-a106cc7f45ce",
   "metadata": {},
   "source": [
    "### [Occam's Razor](https://www.newscientist.com/definition/occams-razor/#:~:text=Occam's%20razor%20is%20a%20principle,should%20prefer%20the%20simpler%20one.)\n",
    "```\n",
    "Occam’s razor is a principle often attributed to 14th–century friar William of Ockham that says that if you have two competing ideas to explain the same phenomenon, you should prefer the simpler one.\n",
    "```\n",
    "\n",
    "If we have 2 models - a simpler one (less params/features) and a more complex one - and the simpler one has smaller amount of assumptions (smaller amout of premade hypothesys for the data/ or less **bias in the data**) we should prefer/choose the simpler one\n",
    "\n",
    "aka KISS"
   ]
  },
  {
   "cell_type": "code",
   "execution_count": null,
   "id": "b1314fb8-2651-4c42-b4fd-478b52c3e428",
   "metadata": {},
   "outputs": [],
   "source": []
  }
 ],
 "metadata": {
  "kernelspec": {
   "display_name": "Python 3 (ipykernel)",
   "language": "python",
   "name": "python3"
  },
  "language_info": {
   "codemirror_mode": {
    "name": "ipython",
    "version": 3
   },
   "file_extension": ".py",
   "mimetype": "text/x-python",
   "name": "python",
   "nbconvert_exporter": "python",
   "pygments_lexer": "ipython3",
   "version": "3.12.4"
  }
 },
 "nbformat": 4,
 "nbformat_minor": 5
}
